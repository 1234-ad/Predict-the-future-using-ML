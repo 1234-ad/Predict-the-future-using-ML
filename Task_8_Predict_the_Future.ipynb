{
 "cells": [
  {
   "cell_type": "markdown",
   "id": "c733498c",
   "metadata": {},
   "source": [
    "# Task 8: Predict the Future – Intro to Machine Learning"
   ]
  },
  {
   "cell_type": "markdown",
   "id": "38079f3d",
   "metadata": {},
   "source": [
    "We will build a regression model to predict the price of a product."
   ]
  },
  {
   "cell_type": "code",
   "execution_count": null,
   "id": "28783252",
   "metadata": {},
   "outputs": [],
   "source": [
    "import pandas as pd\n",
    "import numpy as np\n",
    "from sklearn.model_selection import train_test_split\n",
    "from sklearn.linear_model import LinearRegression\n",
    "from sklearn.preprocessing import LabelEncoder\n",
    "from sklearn.metrics import mean_squared_error, r2_score\n",
    "\n",
    "np.random.seed(42)\n",
    "n_samples = 200\n",
    "categories = ['Electronics', 'Clothing', 'Furniture']\n",
    "sizes = ['Small', 'Medium', 'Large']\n",
    "demand_levels = ['Low', 'Medium', 'High']\n",
    "\n",
    "data = pd.DataFrame({\n",
    "    'Category': np.random.choice(categories, n_samples),\n",
    "    'Size': np.random.choice(sizes, n_samples),\n",
    "    'Demand': np.random.choice(demand_levels, n_samples),\n",
    "    'BaseCost': np.random.randint(100, 1000, n_samples)\n",
    "})\n",
    "\n",
    "demand_multiplier = {'Low': 1.1, 'Medium': 1.3, 'High': 1.6}\n",
    "data['Price'] = data.apply(lambda x: x['BaseCost'] * demand_multiplier[x['Demand']] + np.random.normal(0, 50), axis=1)\n",
    "\n",
    "# Label Encoding\n",
    "le_category = LabelEncoder()\n",
    "le_size = LabelEncoder()\n",
    "le_demand = LabelEncoder()\n",
    "data['Category'] = le_category.fit_transform(data['Category'])\n",
    "data['Size'] = le_size.fit_transform(data['Size'])\n",
    "data['Demand'] = le_demand.fit_transform(data['Demand'])\n",
    "\n",
    "# Train-Test Split\n",
    "X = data[['Category', 'Size', 'Demand', 'BaseCost']]\n",
    "y = data['Price']\n",
    "X_train, X_test, y_train, y_test = train_test_split(X, y, test_size=0.2, random_state=42)\n",
    "\n",
    "# Train Model\n",
    "model = LinearRegression()\n",
    "model.fit(X_train, y_train)\n",
    "\n",
    "# Evaluate\n",
    "y_pred = model.predict(X_test)\n",
    "mse = mean_squared_error(y_test, y_pred)\n",
    "r2 = r2_score(y_test, y_pred)\n",
    "\n",
    "print('Mean Squared Error:', mse)\n",
    "print('R² Score:', r2)"
   ]
  }
 ],
 "metadata": {},
 "nbformat": 4,
 "nbformat_minor": 5
}
